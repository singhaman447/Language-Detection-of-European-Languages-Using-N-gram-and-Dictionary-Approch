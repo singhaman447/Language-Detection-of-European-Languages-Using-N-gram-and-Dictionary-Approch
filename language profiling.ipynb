{
 "cells": [
  {
   "cell_type": "markdown",
   "metadata": {},
   "source": [
    "# Creation of Language Training Profiles"
   ]
  },
  {
   "cell_type": "markdown",
   "metadata": {},
   "source": [
    "## 1. Required Imports"
   ]
  },
  {
   "cell_type": "code",
   "execution_count": 8,
   "metadata": {},
   "outputs": [
    {
     "name": "stdout",
     "output_type": "stream",
     "text": [
      "[nltk_data] Downloading package punkt to\n",
      "[nltk_data]     /Users/ashwinkumar/nltk_data...\n",
      "[nltk_data]   Unzipping tokenizers/punkt.zip.\n"
     ]
    }
   ],
   "source": [
    "import nltk\n",
    "nltk.download('punkt')\n",
    "from nltk.tokenize import word_tokenize\n",
    "import pandas as pd"
   ]
  },
  {
   "cell_type": "markdown",
   "metadata": {},
   "source": [
    "## 2. Read Wili-2018 Dataset and filter it for 37 European Languages"
   ]
  },
  {
   "cell_type": "code",
   "execution_count": 4,
   "metadata": {},
   "outputs": [
    {
     "data": {
      "text/html": [
       "<div>\n",
       "<style scoped>\n",
       "    .dataframe tbody tr th:only-of-type {\n",
       "        vertical-align: middle;\n",
       "    }\n",
       "\n",
       "    .dataframe tbody tr th {\n",
       "        vertical-align: top;\n",
       "    }\n",
       "\n",
       "    .dataframe thead th {\n",
       "        text-align: right;\n",
       "    }\n",
       "</style>\n",
       "<table border=\"1\" class=\"dataframe\">\n",
       "  <thead>\n",
       "    <tr style=\"text-align: right;\">\n",
       "      <th></th>\n",
       "      <th>text</th>\n",
       "      <th>lang</th>\n",
       "    </tr>\n",
       "  </thead>\n",
       "  <tbody>\n",
       "    <tr>\n",
       "      <th>0</th>\n",
       "      <td>In 1978 Johnson was awarded an American Instit...</td>\n",
       "      <td>eng</td>\n",
       "    </tr>\n",
       "    <tr>\n",
       "      <th>1</th>\n",
       "      <td>Bussy-Saint-Georges has built its identity on ...</td>\n",
       "      <td>eng</td>\n",
       "    </tr>\n",
       "    <tr>\n",
       "      <th>2</th>\n",
       "      <td>Minnesota's state parks are spread across the ...</td>\n",
       "      <td>eng</td>\n",
       "    </tr>\n",
       "    <tr>\n",
       "      <th>3</th>\n",
       "      <td>Nordahl Road is a station served by North Coun...</td>\n",
       "      <td>eng</td>\n",
       "    </tr>\n",
       "    <tr>\n",
       "      <th>4</th>\n",
       "      <td>A talk by Takis Fotopoulos about the Internati...</td>\n",
       "      <td>eng</td>\n",
       "    </tr>\n",
       "  </tbody>\n",
       "</table>\n",
       "</div>"
      ],
      "text/plain": [
       "                                                text lang\n",
       "0  In 1978 Johnson was awarded an American Instit...  eng\n",
       "1  Bussy-Saint-Georges has built its identity on ...  eng\n",
       "2  Minnesota's state parks are spread across the ...  eng\n",
       "3  Nordahl Road is a station served by North Coun...  eng\n",
       "4  A talk by Takis Fotopoulos about the Internati...  eng"
      ]
     },
     "execution_count": 4,
     "metadata": {},
     "output_type": "execute_result"
    }
   ],
   "source": [
    "data = pd.read_csv('/Users/ashwinkumar/Downloads/Language Detection/wili-2018/x_train.txt', sep='\\r\\n', header=None, engine='python')\n",
    "res = pd.read_csv('/Users/ashwinkumar/Downloads/Language Detection/wili-2018/y_train.txt', sep='\\r\\n', header=None, engine='python')\n",
    "langs = ['eng']\n",
    "#'swe','nld','tur','lat','dan','por','fra','bos','bul','gle','be-tarask','spa','isl','cym','srp','ita','fin','cat','ron','ces','rus','lit','sqi','slk','ukr','hrv','eng','mlt','hye','nno','hun','deu','mwl','pol','ell','ltz']\n",
    "data['1'] = res\n",
    "data.columns = ['text', 'lang']\n",
    "data = data[data['lang'].isin(langs)].reset_index(drop=True)\n",
    "data.head()"
   ]
  },
  {
   "cell_type": "markdown",
   "metadata": {},
   "source": [
    "## 3. Print filtered Lang Samples and Shape of Dataframe"
   ]
  },
  {
   "cell_type": "code",
   "execution_count": 5,
   "metadata": {},
   "outputs": [
    {
     "name": "stdout",
     "output_type": "stream",
     "text": [
      "                                                text lang\n",
      "0  In 1978 Johnson was awarded an American Instit...  eng\n",
      "1  Bussy-Saint-Georges has built its identity on ...  eng\n",
      "2  Minnesota's state parks are spread across the ...  eng\n",
      "3  Nordahl Road is a station served by North Coun...  eng\n",
      "4  A talk by Takis Fotopoulos about the Internati...  eng\n"
     ]
    },
    {
     "data": {
      "text/plain": [
       "(500, 2)"
      ]
     },
     "execution_count": 5,
     "metadata": {},
     "output_type": "execute_result"
    }
   ],
   "source": [
    "print(data.head())\n",
    "data.shape"
   ]
  },
  {
   "cell_type": "markdown",
   "metadata": {},
   "source": [
    "## 4. Preprocess Lang Data(Remove punctuations and digits)"
   ]
  },
  {
   "cell_type": "code",
   "execution_count": 6,
   "metadata": {},
   "outputs": [
    {
     "data": {
      "text/plain": [
       "(500, 2)"
      ]
     },
     "execution_count": 6,
     "metadata": {},
     "output_type": "execute_result"
    }
   ],
   "source": [
    "data['text'] = data['text'].str.replace(r'[^\\w\\s]+', '')\n",
    "data['text'] = data['text'].str.replace(r'[\\d]+', '')\n",
    "data['text'] = data['text'].astype(str).str.lower()\n",
    "data.shape"
   ]
  },
  {
   "cell_type": "markdown",
   "metadata": {},
   "source": [
    "## 4. Tokenize Lang Data to Prepare Lang Profiles"
   ]
  },
  {
   "cell_type": "code",
   "execution_count": 9,
   "metadata": {},
   "outputs": [
    {
     "data": {
      "text/plain": [
       "(500, 2)"
      ]
     },
     "execution_count": 9,
     "metadata": {},
     "output_type": "execute_result"
    }
   ],
   "source": [
    "#data = data.groupby('lang')['text'].apply(' '.join).reset_index()\n",
    "data['text'] = data.text.apply(word_tokenize)\n",
    "data.shape"
   ]
  },
  {
   "cell_type": "markdown",
   "metadata": {},
   "source": [
    "## 5. Function to Create N-GRAMS"
   ]
  },
  {
   "cell_type": "code",
   "execution_count": 10,
   "metadata": {},
   "outputs": [],
   "source": [
    "def word2ngrams(text, n=3):\n",
    "  \"\"\" Convert word into character ngrams. \"\"\"\n",
    "  return [text[i:i+n] for i in range(len(text)-n+1)]"
   ]
  },
  {
   "cell_type": "markdown",
   "metadata": {},
   "source": [
    "## 6. Generate Lang Profiles using Mono, Bi and Tri GRAMS"
   ]
  },
  {
   "cell_type": "code",
   "execution_count": 11,
   "metadata": {},
   "outputs": [
    {
     "data": {
      "text/plain": [
       "(500, 3)"
      ]
     },
     "execution_count": 11,
     "metadata": {},
     "output_type": "execute_result"
    }
   ],
   "source": [
    "ngrams = []\n",
    "data['ngrams'] = ''\n",
    "for lang in data.text:\n",
    "    lang_ngram = []\n",
    "    for word in lang:\n",
    "        lang_ngram = lang_ngram + word2ngrams(word,1) + word2ngrams(word,2) + word2ngrams(word, 3)\n",
    "    lang_ngram = sorted(list(set(lang_ngram)), key=len)\n",
    "    ngrams.append(lang_ngram)\n",
    "\n",
    "for i in range(len(ngrams)):\n",
    "    data.at[i, 'ngrams'] = ngrams[i]\n",
    "data.shape"
   ]
  },
  {
   "cell_type": "code",
   "execution_count": 12,
   "metadata": {},
   "outputs": [
    {
     "data": {
      "text/html": [
       "<div>\n",
       "<style scoped>\n",
       "    .dataframe tbody tr th:only-of-type {\n",
       "        vertical-align: middle;\n",
       "    }\n",
       "\n",
       "    .dataframe tbody tr th {\n",
       "        vertical-align: top;\n",
       "    }\n",
       "\n",
       "    .dataframe thead th {\n",
       "        text-align: right;\n",
       "    }\n",
       "</style>\n",
       "<table border=\"1\" class=\"dataframe\">\n",
       "  <thead>\n",
       "    <tr style=\"text-align: right;\">\n",
       "      <th></th>\n",
       "      <th>text</th>\n",
       "      <th>lang</th>\n",
       "      <th>ngrams</th>\n",
       "    </tr>\n",
       "  </thead>\n",
       "  <tbody>\n",
       "    <tr>\n",
       "      <th>0</th>\n",
       "      <td>[in, johnson, was, awarded, an, american, inst...</td>\n",
       "      <td>eng</td>\n",
       "      <td>[p, f, n, u, a, e, o, m, d, z, k, b, h, w, i, ...</td>\n",
       "    </tr>\n",
       "    <tr>\n",
       "      <th>1</th>\n",
       "      <td>[bussysaintgeorges, has, built, its, identity,...</td>\n",
       "      <td>eng</td>\n",
       "      <td>[p, s, y, f, n, v, u, a, e, o, m, q, d, k, b, ...</td>\n",
       "    </tr>\n",
       "    <tr>\n",
       "      <th>2</th>\n",
       "      <td>[minnesotas, state, parks, are, spread, across...</td>\n",
       "      <td>eng</td>\n",
       "      <td>[u, k, t, r, g, p, y, a, e, o, b, h, i, c, l, ...</td>\n",
       "    </tr>\n",
       "    <tr>\n",
       "      <th>3</th>\n",
       "      <td>[nordahl, road, is, a, station, served, by, no...</td>\n",
       "      <td>eng</td>\n",
       "      <td>[p, y, f, n, v, u, a, e, o, m, d, k, b, h, w, ...</td>\n",
       "    </tr>\n",
       "    <tr>\n",
       "      <th>4</th>\n",
       "      <td>[a, talk, by, takis, fotopoulos, about, the, i...</td>\n",
       "      <td>eng</td>\n",
       "      <td>[p, y, f, n, v, u, a, e, o, m, z, d, k, b, h, ...</td>\n",
       "    </tr>\n",
       "  </tbody>\n",
       "</table>\n",
       "</div>"
      ],
      "text/plain": [
       "                                                text lang  \\\n",
       "0  [in, johnson, was, awarded, an, american, inst...  eng   \n",
       "1  [bussysaintgeorges, has, built, its, identity,...  eng   \n",
       "2  [minnesotas, state, parks, are, spread, across...  eng   \n",
       "3  [nordahl, road, is, a, station, served, by, no...  eng   \n",
       "4  [a, talk, by, takis, fotopoulos, about, the, i...  eng   \n",
       "\n",
       "                                              ngrams  \n",
       "0  [p, f, n, u, a, e, o, m, d, z, k, b, h, w, i, ...  \n",
       "1  [p, s, y, f, n, v, u, a, e, o, m, q, d, k, b, ...  \n",
       "2  [u, k, t, r, g, p, y, a, e, o, b, h, i, c, l, ...  \n",
       "3  [p, y, f, n, v, u, a, e, o, m, d, k, b, h, w, ...  \n",
       "4  [p, y, f, n, v, u, a, e, o, m, z, d, k, b, h, ...  "
      ]
     },
     "execution_count": 12,
     "metadata": {},
     "output_type": "execute_result"
    }
   ],
   "source": [
    "data.head()"
   ]
  },
  {
   "cell_type": "markdown",
   "metadata": {},
   "source": [
    "## 7. Write Generated Lang Profiles in JSON"
   ]
  },
  {
   "cell_type": "code",
   "execution_count": 13,
   "metadata": {},
   "outputs": [],
   "source": [
    "data.to_json('/Users/ashwinkumar/Downloads/Language Detection/wili-2018/lang_profiles.json', orient='values')"
   ]
  },
  {
   "cell_type": "markdown",
   "metadata": {},
   "source": [
    "# Detect Language using Test Language Profiles"
   ]
  },
  {
   "cell_type": "markdown",
   "metadata": {},
   "source": [
    "## 1. Load Test Data"
   ]
  },
  {
   "cell_type": "code",
   "execution_count": 15,
   "metadata": {},
   "outputs": [
    {
     "data": {
      "text/html": [
       "<div>\n",
       "<style scoped>\n",
       "    .dataframe tbody tr th:only-of-type {\n",
       "        vertical-align: middle;\n",
       "    }\n",
       "\n",
       "    .dataframe tbody tr th {\n",
       "        vertical-align: top;\n",
       "    }\n",
       "\n",
       "    .dataframe thead th {\n",
       "        text-align: right;\n",
       "    }\n",
       "</style>\n",
       "<table border=\"1\" class=\"dataframe\">\n",
       "  <thead>\n",
       "    <tr style=\"text-align: right;\">\n",
       "      <th></th>\n",
       "      <th>text</th>\n",
       "      <th>lang</th>\n",
       "    </tr>\n",
       "  </thead>\n",
       "  <tbody>\n",
       "    <tr>\n",
       "      <th>0</th>\n",
       "      <td>Anton (or Antonius) Maria Schyrleus (also Schy...</td>\n",
       "      <td>eng</td>\n",
       "    </tr>\n",
       "    <tr>\n",
       "      <th>1</th>\n",
       "      <td>Zvi Zamir (Hebrew: צבי זמיר‎) born Zvicka Zarz...</td>\n",
       "      <td>eng</td>\n",
       "    </tr>\n",
       "    <tr>\n",
       "      <th>2</th>\n",
       "      <td>Texas A&amp;M hired Kennedy in May 2011 after Mark...</td>\n",
       "      <td>eng</td>\n",
       "    </tr>\n",
       "    <tr>\n",
       "      <th>3</th>\n",
       "      <td>Philip Johnson architectural drawings, 1943-19...</td>\n",
       "      <td>eng</td>\n",
       "    </tr>\n",
       "    <tr>\n",
       "      <th>4</th>\n",
       "      <td>AVCO Embassy Pictures, the film's financial ba...</td>\n",
       "      <td>eng</td>\n",
       "    </tr>\n",
       "  </tbody>\n",
       "</table>\n",
       "</div>"
      ],
      "text/plain": [
       "                                                text lang\n",
       "0  Anton (or Antonius) Maria Schyrleus (also Schy...  eng\n",
       "1  Zvi Zamir (Hebrew: צבי זמיר‎) born Zvicka Zarz...  eng\n",
       "2  Texas A&M hired Kennedy in May 2011 after Mark...  eng\n",
       "3  Philip Johnson architectural drawings, 1943-19...  eng\n",
       "4  AVCO Embassy Pictures, the film's financial ba...  eng"
      ]
     },
     "execution_count": 15,
     "metadata": {},
     "output_type": "execute_result"
    }
   ],
   "source": [
    "test_data = pd.read_csv('/Users/ashwinkumar/Downloads/Language Detection/wili-2018/x_test.txt', sep='\\r\\n', header=None, engine='python')\n",
    "test_res = pd.read_csv('/Users/ashwinkumar/Downloads/Language Detection/wili-2018/y_test.txt', sep='\\r\\n', header=None, engine='python')\n",
    "test_langs = ['eng']\n",
    "    #'swe','nld','tur','lat','dan','por','fra','bos','bul','gle','be-tarask','spa','isl','cym','srp','ita','fin','cat','ron','ces','rus','lit','sqi','slk','ukr','hrv','eng','mlt','hye','nno','hun','deu','mwl','pol','ell','ltz']\n",
    "test_data['1'] = test_res\n",
    "test_data.columns = ['text', 'lang']\n",
    "test_data = test_data[test_data['lang'].isin(langs)].reset_index(drop=True)\n",
    "test_data.head()"
   ]
  },
  {
   "cell_type": "markdown",
   "metadata": {},
   "source": [
    "## 2. Print filtered Lang Test Samples and Shape of Dataframe"
   ]
  },
  {
   "cell_type": "code",
   "execution_count": 16,
   "metadata": {},
   "outputs": [
    {
     "name": "stdout",
     "output_type": "stream",
     "text": [
      "                                                text lang\n",
      "0  Anton (or Antonius) Maria Schyrleus (also Schy...  eng\n",
      "1  Zvi Zamir (Hebrew: צבי זמיר‎) born Zvicka Zarz...  eng\n",
      "2  Texas A&M hired Kennedy in May 2011 after Mark...  eng\n",
      "3  Philip Johnson architectural drawings, 1943-19...  eng\n",
      "4  AVCO Embassy Pictures, the film's financial ba...  eng\n"
     ]
    },
    {
     "data": {
      "text/plain": [
       "(500, 2)"
      ]
     },
     "execution_count": 16,
     "metadata": {},
     "output_type": "execute_result"
    }
   ],
   "source": [
    "print(test_data.head())\n",
    "test_data.shape"
   ]
  },
  {
   "cell_type": "markdown",
   "metadata": {},
   "source": [
    "## 3. Preprocess Test Lang Data(Remove punctuations and digits)"
   ]
  },
  {
   "cell_type": "code",
   "execution_count": 17,
   "metadata": {},
   "outputs": [
    {
     "data": {
      "text/html": [
       "<div>\n",
       "<style scoped>\n",
       "    .dataframe tbody tr th:only-of-type {\n",
       "        vertical-align: middle;\n",
       "    }\n",
       "\n",
       "    .dataframe tbody tr th {\n",
       "        vertical-align: top;\n",
       "    }\n",
       "\n",
       "    .dataframe thead th {\n",
       "        text-align: right;\n",
       "    }\n",
       "</style>\n",
       "<table border=\"1\" class=\"dataframe\">\n",
       "  <thead>\n",
       "    <tr style=\"text-align: right;\">\n",
       "      <th></th>\n",
       "      <th>text</th>\n",
       "      <th>lang</th>\n",
       "    </tr>\n",
       "  </thead>\n",
       "  <tbody>\n",
       "    <tr>\n",
       "      <th>0</th>\n",
       "      <td>anton or antonius maria schyrleus also schyrl ...</td>\n",
       "      <td>eng</td>\n",
       "    </tr>\n",
       "    <tr>\n",
       "      <th>1</th>\n",
       "      <td>zvi zamir hebrew צבי זמיר born zvicka zarzevsk...</td>\n",
       "      <td>eng</td>\n",
       "    </tr>\n",
       "    <tr>\n",
       "      <th>2</th>\n",
       "      <td>texas am hired kennedy in may  after mark turg...</td>\n",
       "      <td>eng</td>\n",
       "    </tr>\n",
       "    <tr>\n",
       "      <th>3</th>\n",
       "      <td>philip johnson architectural drawings  bulk he...</td>\n",
       "      <td>eng</td>\n",
       "    </tr>\n",
       "    <tr>\n",
       "      <th>4</th>\n",
       "      <td>avco embassy pictures the films financial back...</td>\n",
       "      <td>eng</td>\n",
       "    </tr>\n",
       "  </tbody>\n",
       "</table>\n",
       "</div>"
      ],
      "text/plain": [
       "                                                text lang\n",
       "0  anton or antonius maria schyrleus also schyrl ...  eng\n",
       "1  zvi zamir hebrew צבי זמיר born zvicka zarzevsk...  eng\n",
       "2  texas am hired kennedy in may  after mark turg...  eng\n",
       "3  philip johnson architectural drawings  bulk he...  eng\n",
       "4  avco embassy pictures the films financial back...  eng"
      ]
     },
     "execution_count": 17,
     "metadata": {},
     "output_type": "execute_result"
    }
   ],
   "source": [
    "test_data['text'] = test_data['text'].str.replace(r'[^\\w\\s]+', '')\n",
    "test_data['text'] = test_data['text'].str.replace(r'[\\d]+', '')\n",
    "test_data['text'] = test_data['text'].astype(str).str.lower()\n",
    "test_data.head()"
   ]
  },
  {
   "cell_type": "markdown",
   "metadata": {},
   "source": [
    "## 4. Tokenize Test Lang Data to Prepare Lang Profiles"
   ]
  },
  {
   "cell_type": "code",
   "execution_count": 123,
   "metadata": {},
   "outputs": [
    {
     "data": {
      "text/html": [
       "<div>\n",
       "<style scoped>\n",
       "    .dataframe tbody tr th:only-of-type {\n",
       "        vertical-align: middle;\n",
       "    }\n",
       "\n",
       "    .dataframe tbody tr th {\n",
       "        vertical-align: top;\n",
       "    }\n",
       "\n",
       "    .dataframe thead th {\n",
       "        text-align: right;\n",
       "    }\n",
       "</style>\n",
       "<table border=\"1\" class=\"dataframe\">\n",
       "  <thead>\n",
       "    <tr style=\"text-align: right;\">\n",
       "      <th></th>\n",
       "      <th>text</th>\n",
       "      <th>lang</th>\n",
       "    </tr>\n",
       "  </thead>\n",
       "  <tbody>\n",
       "    <tr>\n",
       "      <th>0</th>\n",
       "      <td>[schiedam, is, gelegen, tussen, rotterdam, en,...</td>\n",
       "      <td>nld</td>\n",
       "    </tr>\n",
       "    <tr>\n",
       "      <th>1</th>\n",
       "      <td>[savannklimat, råder, i, trakten, årsmedeltemp...</td>\n",
       "      <td>swe</td>\n",
       "    </tr>\n",
       "    <tr>\n",
       "      <th>2</th>\n",
       "      <td>[kaye, friade, till, sin, flickvän, pianisten,...</td>\n",
       "      <td>swe</td>\n",
       "    </tr>\n",
       "    <tr>\n",
       "      <th>3</th>\n",
       "      <td>[pantopipetta, brevipilata, är, en, havsspinde...</td>\n",
       "      <td>swe</td>\n",
       "    </tr>\n",
       "    <tr>\n",
       "      <th>4</th>\n",
       "      <td>[moffatia, plumicauda, is, een, vlinder, uit, ...</td>\n",
       "      <td>nld</td>\n",
       "    </tr>\n",
       "  </tbody>\n",
       "</table>\n",
       "</div>"
      ],
      "text/plain": [
       "                                                text lang\n",
       "0  [schiedam, is, gelegen, tussen, rotterdam, en,...  nld\n",
       "1  [savannklimat, råder, i, trakten, årsmedeltemp...  swe\n",
       "2  [kaye, friade, till, sin, flickvän, pianisten,...  swe\n",
       "3  [pantopipetta, brevipilata, är, en, havsspinde...  swe\n",
       "4  [moffatia, plumicauda, is, een, vlinder, uit, ...  nld"
      ]
     },
     "execution_count": 123,
     "metadata": {},
     "output_type": "execute_result"
    }
   ],
   "source": [
    "test_data['text'] = test_data.text.apply(word_tokenize)\n",
    "test_data.head()"
   ]
  },
  {
   "cell_type": "markdown",
   "metadata": {},
   "source": [
    "## 5. Generate Test Lang Profiles using Mono, Bi and Tri GRAMS"
   ]
  },
  {
   "cell_type": "code",
   "execution_count": 124,
   "metadata": {},
   "outputs": [
    {
     "data": {
      "text/html": [
       "<div>\n",
       "<style scoped>\n",
       "    .dataframe tbody tr th:only-of-type {\n",
       "        vertical-align: middle;\n",
       "    }\n",
       "\n",
       "    .dataframe tbody tr th {\n",
       "        vertical-align: top;\n",
       "    }\n",
       "\n",
       "    .dataframe thead th {\n",
       "        text-align: right;\n",
       "    }\n",
       "</style>\n",
       "<table border=\"1\" class=\"dataframe\">\n",
       "  <thead>\n",
       "    <tr style=\"text-align: right;\">\n",
       "      <th></th>\n",
       "      <th>text</th>\n",
       "      <th>lang</th>\n",
       "      <th>ngrams</th>\n",
       "    </tr>\n",
       "  </thead>\n",
       "  <tbody>\n",
       "    <tr>\n",
       "      <th>0</th>\n",
       "      <td>[schiedam, is, gelegen, tussen, rotterdam, en,...</td>\n",
       "      <td>nld</td>\n",
       "      <td>[b, j, e, t, m, v, s, r, l, p, u, g, d, h, w, ...</td>\n",
       "    </tr>\n",
       "    <tr>\n",
       "      <th>1</th>\n",
       "      <td>[savannklimat, råder, i, trakten, årsmedeltemp...</td>\n",
       "      <td>swe</td>\n",
       "      <td>[b, å, j, e, t, m, v, s, r, l, p, ä, u, g, d, ...</td>\n",
       "    </tr>\n",
       "    <tr>\n",
       "      <th>2</th>\n",
       "      <td>[kaye, friade, till, sin, flickvän, pianisten,...</td>\n",
       "      <td>swe</td>\n",
       "      <td>[å, r, l, p, g, ö, z, e, v, s, u, w, k, m, n, ...</td>\n",
       "    </tr>\n",
       "    <tr>\n",
       "      <th>3</th>\n",
       "      <td>[pantopipetta, brevipilata, är, en, havsspinde...</td>\n",
       "      <td>swe</td>\n",
       "      <td>[b, å, j, e, t, m, v, s, r, p, l, ä, u, g, d, ...</td>\n",
       "    </tr>\n",
       "    <tr>\n",
       "      <th>4</th>\n",
       "      <td>[moffatia, plumicauda, is, een, vlinder, uit, ...</td>\n",
       "      <td>nld</td>\n",
       "      <td>[b, y, j, e, t, m, v, s, r, p, l, u, g, d, h, ...</td>\n",
       "    </tr>\n",
       "  </tbody>\n",
       "</table>\n",
       "</div>"
      ],
      "text/plain": [
       "                                                text lang  \\\n",
       "0  [schiedam, is, gelegen, tussen, rotterdam, en,...  nld   \n",
       "1  [savannklimat, råder, i, trakten, årsmedeltemp...  swe   \n",
       "2  [kaye, friade, till, sin, flickvän, pianisten,...  swe   \n",
       "3  [pantopipetta, brevipilata, är, en, havsspinde...  swe   \n",
       "4  [moffatia, plumicauda, is, een, vlinder, uit, ...  nld   \n",
       "\n",
       "                                              ngrams  \n",
       "0  [b, j, e, t, m, v, s, r, l, p, u, g, d, h, w, ...  \n",
       "1  [b, å, j, e, t, m, v, s, r, l, p, ä, u, g, d, ...  \n",
       "2  [å, r, l, p, g, ö, z, e, v, s, u, w, k, m, n, ...  \n",
       "3  [b, å, j, e, t, m, v, s, r, p, l, ä, u, g, d, ...  \n",
       "4  [b, y, j, e, t, m, v, s, r, p, l, u, g, d, h, ...  "
      ]
     },
     "execution_count": 124,
     "metadata": {},
     "output_type": "execute_result"
    }
   ],
   "source": [
    "ngrams = []\n",
    "test_data['ngrams'] = ''\n",
    "for lang in test_data.text:\n",
    "    lang_ngram = []\n",
    "    for word in lang:\n",
    "        lang_ngram = lang_ngram + word2ngrams(word,1) + word2ngrams(word,2) + word2ngrams(word, 3)\n",
    "    lang_ngram = sorted(list(set(lang_ngram)), key=len)\n",
    "    ngrams.append(lang_ngram)\n",
    "#print(ngrams)\n",
    "for i in range(len(ngrams)):\n",
    "    test_data.at[i, 'ngrams'] = ngrams[i]\n",
    "test_data.head()"
   ]
  },
  {
   "cell_type": "code",
   "execution_count": 125,
   "metadata": {},
   "outputs": [
    {
     "data": {
      "text/plain": [
       "(1000, 3)"
      ]
     },
     "execution_count": 125,
     "metadata": {},
     "output_type": "execute_result"
    }
   ],
   "source": [
    "test_data.shape"
   ]
  },
  {
   "cell_type": "code",
   "execution_count": 126,
   "metadata": {},
   "outputs": [
    {
     "name": "stdout",
     "output_type": "stream",
     "text": [
      "['b', 'y', 'j', 'å', 'e', 't', 'm', 's', 'r', 'p', 'l', 'u', 'g', 'd', 'h', 'i', 'o', 'c', 'n', 'f', 'a', 'k', 'su', 'is', 're', 'ri', 'ar', 'in', 'nd', 'ec', 'ra', 'eb', 'of', 'as', 'sk', 'it', 'ot', 'bi', 'me', 'hi', 'at', 'di', 'er', 'he', 'ns', 'br', 'ir', 'ph', 'ru', 'ma', 'på', 'bl', 'ro', 'ea', 'si', 'rc', 'li', 'ui', 'tr', 'ne', 'ia', 'ho', 'je', 'ty', 'us', 'no', 'ep', 'ss', 'io', 'or', 'om', 'se', 'ca', 'st', 'ng', 'en', 'es', 'be', 'ci', 'an', 'ib', 'ti', 'os', 'th', 'jo', 'ut', 'tu', 'pe', 'ts', 'ch', 'ei', 'to', 'ic', 'ry', 'itu', 'sui', 'ira', 'bes', 'jes', 'seb', 'tre', 'rea', 'erc', 'ere', 'ebe', 'sti', 'ssi', 'eir', 'ici', 'dia', 'jos', 'esu', 'per', 'rch', 'oth', 'nor', 'rei', 'ric', 'lio', 'mas', 'ose', 'tit', 'ian', 'bri', 'ist', 'ris', 'ino', 'tho', 'his', 'eat', 'bli', 'sin', 'oma', 'ary', 'ner', 'uti', 'ibr', 'tut', 'rom', 'ori', 'the', 'ins', 'oru', 'nst', 'iar', 'hin', 'bib', 'hom', 'nsk', 'eph', 'sto', 'iot', 'its', 'sep', 'lib', 'uss', 'sia', 'hec', 'rus', 'tor', 'eca', 'chi', 'ibl', 'ome', 'eng', 'and', 'aty', 'uit']\n",
      "['b', 'j', 'e', 't', 'm', 'v', 's', 'r', 'l', 'p', 'u', 'g', 'd', 'h', 'w', 'i', 'o', 'c', 'n', 'a', 'k', 'wo', 'ap', 'is', 'eg', 'al', 're', 'ri', 'dm', 'ar', 'in', 'gs', 'nd', 'ni', 'ra', 'ev', 'ha', 'de', 'as', 'ot', 'bi', 'eu', 'nt', 'wi', 'me', 'gr', 'aa', 'el', 'vo', 'ke', 'hi', 'di', 'at', 'er', 'vl', 'ta', 'he', 'ns', 'rs', 'br', 'ad', 'ie', 'jk', 'cb', 've', 'ma', 'nw', 'sc', 'ro', 'ht', 'et', 'nk', 'li', 'ld', 'il', 'ee', 'og', 'ne', 'te', 'pr', 'ho', 'mo', 'je', 'us', 'tt', 'la', 'oo', 'ol', 'uw', 'ss', 'or', 'ac', 'om', 'bs', 'se', 'on', 'st', 'ng', 'en', 'ge', 'be', 'sp', 'an', 'ok', 'ek', 'am', 'ij', 'nn', 'ed', 'we', 'tu', 'pe', 'ch', 'rd', 'da', 'to', 'le', 'em', 'nke', 'ndm', 'met', 'oog', 'len', 'hie', 'end', 'gen', 'rac', 'che', 'sen', 'inw', 'ent', 'nev', 'ere', 'nte', 'pro', 'sta', 'dmo', 'isc', 'apr', 'ieu', 'din', 'lij', 'bin', 'ole', 'eme', 'ate', 'bek', 'nie', 'nge', 'ril', 'ele', 'per', 'inn', 'wer', 'voo', 'ors', 'aas', 'oor', 'sse', 'ter', 'nwo', 'tte', 'pri', 'sch', 'dam', 'hoo', 'jen', 'ijk', 'ard', 'eda', 'win', 'ist', 'erd', 'rda', 'ris', 'mee', 'rsp', 'onk', 'ron', 'bro', 'his', 'ene', 'eld', 'euw', 'cbs', 'nen', 'tad', 'rel', 'ken', 'rdi', 'won', 'ner', 'leg', 'ogs', 'ori', 'gel', 'mol', 'laa', 'tus', 'kel', 'ral', 'ten', 'had', 'ers', 'ied', 'nst', 'ver', 'ens', 'spr', 'hte', 'gst', 'sto', 'ste', 'ach', 'uss', 'ing', 'tor', 'gra', 'eli', 'eke', 'ook', 'ege', 'cht', 'chi', 'one', 'rot', 'vla', 'ora', 'maa', 'ott', 'een', 'ind', 'aar', 'nne', 'uwe', 'eve', 'gem', 'lat', 'aan', 'haa']\n"
     ]
    }
   ],
   "source": [
    "print(data['ngrams'][0])\n",
    "print(test_data['ngrams'][0])"
   ]
  },
  {
   "cell_type": "code",
   "execution_count": 127,
   "metadata": {},
   "outputs": [
    {
     "data": {
      "text/plain": [
       "(1000, 3)"
      ]
     },
     "execution_count": 127,
     "metadata": {},
     "output_type": "execute_result"
    }
   ],
   "source": [
    "data.shape"
   ]
  },
  {
   "cell_type": "code",
   "execution_count": null,
   "metadata": {
    "scrolled": true
   },
   "outputs": [],
   "source": [
    "UB = 0.95\n",
    "LB = 0.92\n",
    "\n",
    "for i in range(len(test_data)):\n",
    "    for j in range(len(data)):\n",
    "        data.at[j, 'match_rate_lang_'+str(i)] = len(set(test_data.iloc[i]['ngrams']).intersection(data.iloc[j]['ngrams']))/len(data.iloc[j]['ngrams'])\n",
    "data.head()"
   ]
  },
  {
   "cell_type": "code",
   "execution_count": 108,
   "metadata": {},
   "outputs": [
    {
     "name": "stdout",
     "output_type": "stream",
     "text": [
      "Language\tScore\n",
      "nld\t0.5915492957746479\n",
      "nld\t0.7853107344632768\n",
      "nld\t0.42613636363636365\n",
      "nld\t0.7810650887573964\n",
      "nld\t0.42962962962962964\n",
      "nld\t0.3898305084745763\n",
      "nld\t0.6637931034482759\n",
      "nld\t0.7928994082840237\n",
      "nld\t0.5638297872340425\n",
      "nld\t0.6513761467889908\n",
      "nld\t0.6190476190476191\n",
      "nld\t0.562962962962963\n",
      "nld\t0.6206896551724138\n",
      "nld\t0.5460526315789473\n",
      "nld\t0.4619289340101523\n",
      "nld\t0.7276595744680852\n",
      "nld\t0.43783783783783786\n",
      "nld\t0.6699029126213593\n",
      "nld\t0.6810344827586207\n",
      "nld\t0.6551724137931034\n",
      "nld\t0.7302631578947368\n",
      "nld\t0.5562913907284768\n",
      "nld\t0.6\n",
      "nld\t0.5105263157894737\n",
      "nld\t0.36507936507936506\n",
      "nld\t0.6510067114093959\n",
      "nld\t0.6260162601626016\n",
      "nld\t0.861878453038674\n",
      "nld\t0.7073170731707317\n",
      "nld\t0.6864864864864865\n",
      "nld\t0.5\n",
      "nld\t0.8496732026143791\n",
      "nld\t0.7816901408450704\n",
      "nld\t0.7751479289940828\n",
      "nld\t0.4966887417218543\n",
      "nld\t0.528169014084507\n",
      "nld\t0.5603448275862069\n",
      "nld\t0.603448275862069\n",
      "nld\t0.6454545454545455\n",
      "nld\t0.8165680473372781\n",
      "nld\t0.5789473684210527\n",
      "nld\t0.6180555555555556\n",
      "nld\t0.6796536796536796\n",
      "nld\t0.8186813186813187\n",
      "nld\t0.8351648351648352\n",
      "nld\t0.7394366197183099\n",
      "nld\t0.7368421052631579\n",
      "nld\t0.8855421686746988\n",
      "nld\t0.5779816513761468\n",
      "nld\t0.9126637554585153\n",
      "nld\t0.5431034482758621\n",
      "nld\t0.49206349206349204\n",
      "nld\t0.4858490566037736\n",
      "nld\t0.7327586206896551\n",
      "nld\t0.5851851851851851\n",
      "nld\t0.48598130841121495\n",
      "nld\t0.7777777777777778\n",
      "nld\t0.6690140845070423\n",
      "nld\t0.7333333333333333\n",
      "nld\t0.7485029940119761\n",
      "nld\t0.49295774647887325\n",
      "nld\t0.7919463087248322\n",
      "nld\t0.8223684210526315\n",
      "nld\t0.7257142857142858\n",
      "nld\t0.5434782608695652\n",
      "nld\t0.5258620689655172\n",
      "nld\t0.47413793103448276\n",
      "nld\t0.5728155339805825\n",
      "nld\t0.9111111111111111\n",
      "nld\t0.7928994082840237\n",
      "nld\t0.5422535211267606\n",
      "nld\t0.6240601503759399\n",
      "nld\t0.40397350993377484\n",
      "nld\t0.5086206896551724\n",
      "nld\t0.7912087912087912\n",
      "nld\t0.6551724137931034\n",
      "nld\t0.5086206896551724\n",
      "nld\t0.5045871559633027\n",
      "nld\t0.4639175257731959\n",
      "nld\t0.6551724137931034\n",
      "nld\t0.592391304347826\n",
      "nld\t0.5203252032520326\n",
      "nld\t0.6331360946745562\n",
      "nld\t0.5058823529411764\n",
      "nld\t0.5344827586206896\n",
      "nld\t0.7758620689655172\n",
      "nld\t0.5306122448979592\n",
      "nld\t0.5138888888888888\n",
      "nld\t0.6369426751592356\n",
      "nld\t0.5431034482758621\n",
      "nld\t0.625\n",
      "nld\t0.7295597484276729\n",
      "nld\t0.5422535211267606\n",
      "nld\t0.6408450704225352\n",
      "nld\t0.7633136094674556\n",
      "nld\t0.47368421052631576\n",
      "nld\t0.5244755244755245\n",
      "nld\t0.5974025974025974\n",
      "nld\t0.35714285714285715\n",
      "nld\t0.6408450704225352\n",
      "nld\t0.5157232704402516\n",
      "nld\t0.5\n",
      "nld\t0.7155172413793104\n",
      "nld\t0.7692307692307693\n",
      "nld\t0.5657894736842105\n",
      "nld\t0.5413533834586466\n",
      "nld\t0.5431034482758621\n",
      "nld\t0.5921052631578947\n",
      "nld\t1.0\n",
      "nld\t0.41379310344827586\n",
      "nld\t0.8402061855670103\n",
      "nld\t0.8156424581005587\n",
      "nld\t0.4012345679012346\n",
      "nld\t0.8305084745762712\n",
      "nld\t0.6136363636363636\n",
      "nld\t0.5379310344827586\n",
      "nld\t0.6114649681528662\n",
      "nld\t0.5492957746478874\n",
      "nld\t0.8201058201058201\n",
      "nld\t0.5431034482758621\n",
      "nld\t0.4125874125874126\n",
      "nld\t0.5772357723577236\n",
      "nld\t0.7293233082706767\n",
      "nld\t0.41284403669724773\n",
      "nld\t0.7197452229299363\n",
      "nld\t0.8021978021978022\n",
      "nld\t0.6649746192893401\n",
      "nld\t0.5789473684210527\n",
      "nld\t0.593103448275862\n",
      "nld\t0.75\n",
      "nld\t0.7247191011235955\n",
      "nld\t0.8679245283018868\n",
      "nld\t0.43448275862068964\n",
      "nld\t0.6724137931034483\n",
      "nld\t0.603448275862069\n",
      "nld\t0.4934210526315789\n",
      "nld\t0.5775862068965517\n",
      "nld\t0.4909090909090909\n",
      "nld\t0.7413793103448276\n",
      "nld\t0.6293706293706294\n",
      "nld\t0.6619718309859155\n",
      "nld\t0.4796747967479675\n",
      "nld\t0.8087431693989071\n",
      "nld\t0.5229357798165137\n",
      "nld\t0.6026490066225165\n",
      "nld\t0.4959349593495935\n",
      "nld\t0.8143712574850299\n",
      "nld\t0.6551724137931034\n",
      "nld\t0.6896551724137931\n",
      "nld\t0.6308724832214765\n",
      "nld\t0.7735849056603774\n",
      "nld\t0.5203252032520326\n",
      "nld\t0.48223350253807107\n",
      "nld\t0.6120689655172413\n",
      "nld\t0.6349206349206349\n",
      "nld\t0.5\n",
      "nld\t0.43103448275862066\n",
      "nld\t0.834319526627219\n",
      "nld\t0.49056603773584906\n",
      "nld\t0.5333333333333333\n",
      "nld\t0.8496732026143791\n",
      "nld\t0.5789473684210527\n",
      "nld\t0.5939849624060151\n",
      "nld\t0.7740112994350282\n",
      "nld\t0.7818181818181819\n",
      "nld\t0.697986577181208\n",
      "nld\t0.5862068965517241\n",
      "nld\t0.49137931034482757\n",
      "nld\t0.7068965517241379\n",
      "nld\t0.7692307692307693\n",
      "nld\t0.7823529411764706\n",
      "nld\t0.5424528301886793\n",
      "nld\t0.8888888888888888\n",
      "nld\t0.45871559633027525\n",
      "nld\t0.753968253968254\n",
      "nld\t0.5256410256410257\n",
      "nld\t0.47586206896551725\n",
      "nld\t0.4631578947368421\n",
      "nld\t0.5263157894736842\n",
      "nld\t1.0\n",
      "nld\t0.8095238095238095\n",
      "nld\t0.6466165413533834\n",
      "nld\t0.5740740740740741\n",
      "nld\t0.6553398058252428\n",
      "nld\t0.8135593220338984\n",
      "nld\t0.5413533834586466\n",
      "nld\t0.6820809248554913\n",
      "nld\t0.7068965517241379\n",
      "nld\t0.7692307692307693\n",
      "nld\t0.39655172413793105\n",
      "nld\t0.5263157894736842\n",
      "nld\t0.3458646616541353\n",
      "nld\t0.6379310344827587\n",
      "nld\t0.7909604519774012\n",
      "nld\t0.52\n",
      "nld\t0.5422535211267606\n",
      "nld\t0.5302013422818792\n",
      "nld\t0.373015873015873\n",
      "nld\t0.6379310344827587\n",
      "nld\t0.5862068965517241\n",
      "nld\t0.47413793103448276\n",
      "nld\t0.47413793103448276\n",
      "nld\t0.6991869918699187\n",
      "nld\t0.75\n",
      "nld\t0.5927835051546392\n",
      "nld\t0.7793103448275862\n",
      "nld\t0.5684210526315789\n",
      "nld\t0.4878048780487805\n",
      "nld\t0.5086206896551724\n",
      "nld\t0.5639097744360902\n",
      "nld\t0.7588235294117647\n",
      "nld\t0.5263157894736842\n",
      "nld\t0.757396449704142\n",
      "nld\t0.5298013245033113\n",
      "nld\t0.6616541353383458\n",
      "nld\t0.6190476190476191\n",
      "nld\t0.8806584362139918\n",
      "nld\t0.5140845070422535\n",
      "nld\t0.8806584362139918\n",
      "nld\t0.6120689655172413\n",
      "nld\t0.5\n",
      "nld\t0.706766917293233\n",
      "nld\t0.5775862068965517\n",
      "nld\t0.6293103448275862\n",
      "nld\t0.4396551724137931\n",
      "nld\t0.7633136094674556\n",
      "nld\t0.7142857142857143\n",
      "nld\t0.4224137931034483\n",
      "nld\t0.8165680473372781\n",
      "nld\t0.4224137931034483\n",
      "nld\t0.6637931034482759\n",
      "nld\t0.6016260162601627\n",
      "nld\t0.7764705882352941\n",
      "nld\t0.6992481203007519\n",
      "nld\t0.8552631578947368\n",
      "nld\t0.6504065040650406\n",
      "nld\t0.8351648351648352\n",
      "nld\t0.6666666666666666\n",
      "nld\t0.6825396825396826\n",
      "nld\t0.7413793103448276\n",
      "nld\t0.5862068965517241\n",
      "nld\t0.8176470588235294\n",
      "nld\t0.6016260162601627\n",
      "nld\t0.4968553459119497\n",
      "nld\t0.49746192893401014\n",
      "nld\t0.49375\n",
      "nld\t0.5\n",
      "nld\t0.7241379310344828\n",
      "nld\t0.6879432624113475\n",
      "nld\t0.5344827586206896\n",
      "nld\t0.5961538461538461\n",
      "nld\t0.8165680473372781\n",
      "nld\t0.7013888888888888\n",
      "nld\t0.5431034482758621\n",
      "nld\t0.7241379310344828\n",
      "nld\t0.7526315789473684\n",
      "nld\t0.7928994082840237\n",
      "nld\t0.49624060150375937\n",
      "nld\t0.5517241379310345\n",
      "nld\t0.5862068965517241\n",
      "nld\t0.5338345864661654\n",
      "nld\t0.4835164835164835\n",
      "nld\t0.47586206896551725\n",
      "nld\t0.6305732484076433\n",
      "nld\t0.807909604519774\n",
      "nld\t0.5140845070422535\n",
      "nld\t0.7450980392156863\n",
      "nld\t0.49137931034482757\n",
      "nld\t0.5344827586206896\n",
      "nld\t0.6551724137931034\n",
      "nld\t0.6432432432432432\n",
      "nld\t0.4793388429752066\n",
      "nld\t0.6178343949044586\n",
      "nld\t0.5297619047619048\n",
      "nld\t0.8033707865168539\n",
      "nld\t0.6206896551724138\n",
      "nld\t0.8402366863905325\n",
      "nld\t0.630057803468208\n",
      "nld\t0.7916666666666666\n",
      "nld\t0.5948275862068966\n",
      "nld\t0.6346153846153846\n",
      "nld\t0.6120689655172413\n",
      "nld\t0.47183098591549294\n",
      "nld\t0.7007042253521126\n",
      "nld\t0.4528301886792453\n",
      "nld\t0.6111111111111112\n",
      "nld\t0.6370370370370371\n",
      "nld\t0.7751479289940828\n",
      "nld\t0.6910569105691057\n",
      "nld\t0.5613207547169812\n",
      "nld\t0.7944444444444444\n",
      "nld\t0.6165413533834586\n",
      "nld\t0.718562874251497\n",
      "nld\t0.8206521739130435\n",
      "nld\t0.7763157894736842\n",
      "nld\t0.6444444444444445\n",
      "nld\t0.8042328042328042\n",
      "nld\t0.6842105263157895\n",
      "nld\t0.5431034482758621\n",
      "nld\t0.6551724137931034\n",
      "nld\t0.5588235294117647\n",
      "nld\t0.6358381502890174\n",
      "nld\t0.6379310344827587\n",
      "nld\t0.7006802721088435\n",
      "nld\t0.49206349206349204\n",
      "nld\t0.7213930348258707\n",
      "nld\t0.6120689655172413\n",
      "nld\t0.5081967213114754\n",
      "nld\t0.43103448275862066\n",
      "nld\t0.7771084337349398\n",
      "nld\t0.5786163522012578\n",
      "nld\t0.6150234741784038\n",
      "nld\t0.6269230769230769\n",
      "nld\t0.603448275862069\n",
      "nld\t0.7150259067357513\n",
      "nld\t0.8059701492537313\n",
      "nld\t0.49137931034482757\n",
      "nld\t0.4482758620689655\n",
      "nld\t0.7823529411764706\n",
      "nld\t0.7293233082706767\n",
      "nld\t0.7291666666666666\n",
      "nld\t0.8235294117647058\n",
      "nld\t0.6968085106382979\n",
      "nld\t0.4959349593495935\n",
      "nld\t0.6\n",
      "nld\t0.7046979865771812\n",
      "nld\t0.905829596412556\n",
      "nld\t0.5263157894736842\n",
      "nld\t0.75\n",
      "nld\t0.5948275862068966\n",
      "nld\t0.45689655172413796\n",
      "nld\t0.46551724137931033\n",
      "nld\t0.5823529411764706\n",
      "nld\t0.5258620689655172\n",
      "nld\t0.6497175141242938\n",
      "nld\t0.5633802816901409\n",
      "nld\t0.4375\n",
      "nld\t0.7611111111111111\n",
      "nld\t0.49624060150375937\n",
      "nld\t0.9209486166007905\n",
      "nld\t0.49137931034482757\n",
      "nld\t0.6637931034482759\n",
      "nld\t0.7374301675977654\n",
      "nld\t0.8074866310160428\n",
      "nld\t0.0\n",
      "nld\t0.3873239436619718\n",
      "nld\t0.5384615384615384\n",
      "nld\t0.8121546961325967\n",
      "nld\t0.6530612244897959\n",
      "nld\t0.45774647887323944\n",
      "nld\t0.562874251497006\n",
      "nld\t0.5853658536585366\n",
      "nld\t0.6148648648648649\n",
      "nld\t0.8210526315789474\n",
      "nld\t0.8117647058823529\n",
      "nld\t0.5688073394495413\n",
      "nld\t0.6276595744680851\n",
      "nld\t0.6992481203007519\n",
      "nld\t0.543859649122807\n",
      "nld\t0.5825242718446602\n",
      "nld\t0.6842105263157895\n",
      "nld\t0.9470198675496688\n",
      "nld\t0.6710526315789473\n",
      "nld\t0.5079365079365079\n",
      "nld\t0.5948275862068966\n",
      "nld\t0.6447368421052632\n",
      "nld\t0.6383763837638377\n",
      "nld\t0.7171052631578947\n",
      "nld\t0.5845070422535211\n",
      "nld\t0.8108108108108109\n",
      "nld\t0.7154471544715447\n",
      "nld\t0.6424581005586593\n",
      "nld\t0.6428571428571429\n",
      "nld\t0.7241379310344828\n",
      "nld\t0.7155172413793104\n",
      "nld\t0.42857142857142855\n",
      "nld\t0.7810650887573964\n",
      "nld\t0.49295774647887325\n",
      "nld\t0.6442953020134228\n",
      "nld\t0.6458333333333334\n",
      "nld\t0.7923497267759563\n",
      "nld\t0.8\n",
      "nld\t0.5603448275862069\n",
      "nld\t0.5939849624060151\n",
      "nld\t0.6711409395973155\n",
      "nld\t0.5238095238095238\n",
      "nld\t0.7564766839378239\n",
      "nld\t0.8026315789473685\n",
      "nld\t0.47413793103448276\n",
      "nld\t0.6619718309859155\n",
      "nld\t0.788235294117647\n",
      "nld\t0.5781990521327014\n",
      "nld\t0.618421052631579\n",
      "nld\t0.6206896551724138\n",
      "nld\t0.7919463087248322\n",
      "nld\t0.5789473684210527\n",
      "nld\t0.7722222222222223\n",
      "nld\t0.7810650887573964\n",
      "nld\t0.603448275862069\n",
      "nld\t0.9436619718309859\n",
      "nld\t0.5948275862068966\n",
      "nld\t0.6912751677852349\n",
      "nld\t0.6711409395973155\n",
      "nld\t0.5980392156862745\n",
      "nld\t0.8888888888888888\n",
      "nld\t0.7700534759358288\n",
      "nld\t0.5586206896551724\n",
      "nld\t0.7413793103448276\n",
      "nld\t0.46616541353383456\n",
      "nld\t0.5775862068965517\n",
      "nld\t0.5704225352112676\n",
      "nld\t0.5492957746478874\n",
      "nld\t0.7134146341463414\n",
      "nld\t0.6190476190476191\n",
      "nld\t0.6818181818181818\n",
      "nld\t0.7627118644067796\n",
      "nld\t0.4819277108433735\n",
      "nld\t0.5772357723577236\n",
      "nld\t0.5873015873015873\n",
      "nld\t0.4619883040935672\n",
      "nld\t0.8813559322033898\n",
      "nld\t0.5620915032679739\n",
      "nld\t0.5408805031446541\n",
      "nld\t0.5948275862068966\n",
      "nld\t0.6197183098591549\n",
      "nld\t0.7302631578947368\n",
      "nld\t0.5086206896551724\n",
      "nld\t0.5759493670886076\n",
      "nld\t0.4968553459119497\n",
      "nld\t0.47368421052631576\n",
      "nld\t0.46710526315789475\n",
      "nld\t0.4897959183673469\n",
      "nld\t0.4391891891891892\n",
      "nld\t0.5555555555555556\n",
      "nld\t0.8265895953757225\n",
      "nld\t0.6120689655172413\n",
      "nld\t0.7810650887573964\n",
      "nld\t0.6459143968871596\n",
      "nld\t0.47904191616766467\n",
      "nld\t0.6111111111111112\n",
      "nld\t0.47413793103448276\n",
      "nld\t0.6052631578947368\n",
      "nld\t0.8734939759036144\n",
      "nld\t0.4396551724137931\n",
      "nld\t0.48623853211009177\n",
      "nld\t0.7218045112781954\n",
      "nld\t0.5\n",
      "nld\t0.7208121827411168\n"
     ]
    },
    {
     "name": "stdout",
     "output_type": "stream",
     "text": [
      "nld\t0.7005649717514124\n",
      "nld\t0.4014084507042254\n",
      "nld\t0.6120689655172413\n",
      "nld\t0.5408805031446541\n",
      "nld\t0.5673076923076923\n",
      "nld\t0.5862068965517241\n",
      "nld\t0.8157894736842105\n",
      "nld\t0.5563380281690141\n",
      "nld\t0.6293103448275862\n",
      "nld\t0.6973684210526315\n",
      "nld\t0.47413793103448276\n",
      "nld\t0.6810344827586207\n",
      "nld\t0.6379310344827587\n",
      "nld\t0.4482758620689655\n",
      "nld\t0.6369426751592356\n",
      "nld\t0.5704697986577181\n",
      "nld\t0.3888888888888889\n",
      "nld\t0.6551724137931034\n",
      "nld\t0.4972972972972973\n",
      "nld\t0.6255924170616114\n",
      "nld\t0.6724137931034483\n",
      "nld\t0.5416666666666666\n",
      "nld\t0.5517241379310345\n",
      "nld\t0.776536312849162\n",
      "nld\t0.6666666666666666\n",
      "nld\t0.5\n",
      "nld\t0.42105263157894735\n",
      "nld\t0.5231788079470199\n",
      "nld\t0.6529411764705882\n",
      "nld\t0.5471698113207547\n",
      "nld\t0.556390977443609\n",
      "nld\t0.5\n",
      "nld\t0.5939849624060151\n",
      "nld\t0.7758620689655172\n",
      "nld\t0.5310344827586206\n",
      "nld\t0.6691729323308271\n",
      "nld\t0.7966101694915254\n",
      "nld\t0.8229166666666666\n",
      "nld\t0.5481481481481482\n",
      "nld\t0.5609756097560976\n",
      "nld\t0.5714285714285714\n",
      "nld\t0.8315789473684211\n",
      "nld\t0.6702702702702703\n",
      "nld\t0.6338028169014085\n",
      "nld\t0.7394366197183099\n",
      "nld\t0.5862068965517241\n",
      "nld\t0.5192307692307693\n",
      "nld\t0.6896551724137931\n",
      "nld\t0.7664670658682635\n",
      "nld\t0.58125\n",
      "nld\t0.5486111111111112\n",
      "nld\t0.4652777777777778\n"
     ]
    }
   ],
   "source": [
    "print('Language\\tScore')\n",
    "for i in range(len(test_data)):\n",
    "    print(data.loc[data['match_rate_lang_'+str(i)].idxmax()]['lang']+'\\t'+str(data.loc[data['match_rate_lang_'+str(i)].idxmax()]['match_rate_lang_'+str(i)]))"
   ]
  },
  {
   "cell_type": "code",
   "execution_count": 109,
   "metadata": {},
   "outputs": [
    {
     "data": {
      "text/html": [
       "<div>\n",
       "<style scoped>\n",
       "    .dataframe tbody tr th:only-of-type {\n",
       "        vertical-align: middle;\n",
       "    }\n",
       "\n",
       "    .dataframe tbody tr th {\n",
       "        vertical-align: top;\n",
       "    }\n",
       "\n",
       "    .dataframe thead th {\n",
       "        text-align: right;\n",
       "    }\n",
       "</style>\n",
       "<table border=\"1\" class=\"dataframe\">\n",
       "  <thead>\n",
       "    <tr style=\"text-align: right;\">\n",
       "      <th></th>\n",
       "      <th>Language</th>\n",
       "      <th>Score</th>\n",
       "    </tr>\n",
       "  </thead>\n",
       "  <tbody>\n",
       "    <tr>\n",
       "      <th>0</th>\n",
       "      <td>nld</td>\n",
       "      <td>0.591549</td>\n",
       "    </tr>\n",
       "    <tr>\n",
       "      <th>1</th>\n",
       "      <td>nld</td>\n",
       "      <td>0.785311</td>\n",
       "    </tr>\n",
       "    <tr>\n",
       "      <th>2</th>\n",
       "      <td>nld</td>\n",
       "      <td>0.426136</td>\n",
       "    </tr>\n",
       "    <tr>\n",
       "      <th>3</th>\n",
       "      <td>nld</td>\n",
       "      <td>0.781065</td>\n",
       "    </tr>\n",
       "    <tr>\n",
       "      <th>4</th>\n",
       "      <td>nld</td>\n",
       "      <td>0.429630</td>\n",
       "    </tr>\n",
       "  </tbody>\n",
       "</table>\n",
       "</div>"
      ],
      "text/plain": [
       "  Language     Score\n",
       "0      nld  0.591549\n",
       "1      nld  0.785311\n",
       "2      nld  0.426136\n",
       "3      nld  0.781065\n",
       "4      nld  0.429630"
      ]
     },
     "execution_count": 109,
     "metadata": {},
     "output_type": "execute_result"
    }
   ],
   "source": [
    "results = []\n",
    "for i in range(len(test_data)):\n",
    "    results.append({'Language':data.loc[data['match_rate_lang_'+str(i)].idxmax()]['lang'], 'Score':data.loc[data['match_rate_lang_'+str(i)].idxmax()]['match_rate_lang_'+str(i)]})\n",
    "res_df = pd.DataFrame(results)\n",
    "res_df.head()"
   ]
  },
  {
   "cell_type": "code",
   "execution_count": 110,
   "metadata": {},
   "outputs": [
    {
     "data": {
      "text/plain": [
       "0.628117824575719"
      ]
     },
     "execution_count": 110,
     "metadata": {},
     "output_type": "execute_result"
    }
   ],
   "source": [
    "res_df['Score'].mean()"
   ]
  },
  {
   "cell_type": "code",
   "execution_count": null,
   "metadata": {},
   "outputs": [],
   "source": []
  }
 ],
 "metadata": {
  "kernelspec": {
   "display_name": "Python 3",
   "language": "python",
   "name": "python3"
  },
  "language_info": {
   "codemirror_mode": {
    "name": "ipython",
    "version": 3
   },
   "file_extension": ".py",
   "mimetype": "text/x-python",
   "name": "python",
   "nbconvert_exporter": "python",
   "pygments_lexer": "ipython3",
   "version": "3.6.4"
  }
 },
 "nbformat": 4,
 "nbformat_minor": 2
}
